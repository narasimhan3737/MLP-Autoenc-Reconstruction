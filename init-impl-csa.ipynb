{
 "cells": [
  {
   "cell_type": "code",
   "execution_count": 1,
   "metadata": {},
   "outputs": [],
   "source": [
    "import scipy.io\n",
    "import os\n",
    "import shutil\n",
    "try:\n",
    "    from urllib import urlretrieve # python2\n",
    "except:\n",
    "    from urllib.request import urlretrieve # python3\n",
    "import loss_csa as CSA\n",
    "from torchmetrics import SpectralAngleMapper"
   ]
  },
  {
   "cell_type": "code",
   "execution_count": 2,
   "metadata": {},
   "outputs": [],
   "source": [
    "import data as data\n",
    "import numpy as np\n",
    "import matplotlib.pyplot as plt\n",
    "import torch as T\n",
    "import torch\n",
    "device = T.device(\"cuda\")  # apply to Tensor or Module\n",
    "import time\n",
    "from tqdm import tqdm\n",
    "from train_objectives import SAD, SID"
   ]
  },
  {
   "cell_type": "code",
   "execution_count": 3,
   "metadata": {},
   "outputs": [],
   "source": [
    "torch.cuda.empty_cache()"
   ]
  },
  {
   "cell_type": "code",
   "execution_count": 4,
   "metadata": {},
   "outputs": [],
   "source": [
    "mat = scipy.io.loadmat( 'PaviaU.mat' )\n",
    "img = mat[ 'paviaU' ]\n",
    "\n",
    "# create a hyperspectral dataset object from the numpy array\n",
    "hypData = data.HypImg( img )\n",
    "\n",
    "# pre-process data to make the model easier to train\n",
    "hypData.pre_process( 'minmax' )"
   ]
  },
  {
   "cell_type": "code",
   "execution_count": 5,
   "metadata": {},
   "outputs": [],
   "source": [
    "# create data iterator objects for training and validation using the pre-processed data\n",
    "trainSamples = 200000\n",
    "valSamples = 100\n",
    "dataTrain = data.Iterator( dataSamples=hypData.spectraPrep[:trainSamples, :],\n",
    "                        targets=hypData.spectraPrep[:trainSamples, :], batchSize=4 )\n",
    "dataVal = data.Iterator( dataSamples=hypData.spectraPrep[trainSamples:trainSamples+valSamples, :],\n",
    "                        targets=hypData.spectraPrep[trainSamples:trainSamples+valSamples, :] )\n"
   ]
  },
  {
   "cell_type": "code",
   "execution_count": 6,
   "metadata": {},
   "outputs": [],
   "source": [
    "# shuffle training data\n",
    "dataTrain.shuffle()"
   ]
  },
  {
   "cell_type": "code",
   "execution_count": 7,
   "metadata": {},
   "outputs": [
    {
     "data": {
      "text/plain": [
       "tensor([[4.7281e-07, 5.5792e-02, 7.3759e-02,  ..., 4.3310e-01, 4.3783e-01,\n",
       "         4.4634e-01],\n",
       "        [1.1779e-01, 4.1311e-02, 3.4141e-07,  ..., 9.0782e-01, 9.0099e-01,\n",
       "         9.1635e-01],\n",
       "        [4.1789e-07, 8.2742e-02, 7.9399e-02,  ..., 6.4605e-01, 6.4480e-01,\n",
       "         6.7530e-01],\n",
       "        ...,\n",
       "        [1.2718e-01, 5.5262e-02, 3.7850e-07,  ..., 7.9182e-01, 7.8312e-01,\n",
       "         7.8955e-01],\n",
       "        [4.4014e-02, 7.3829e-02, 3.3133e-03,  ..., 4.5670e-01, 4.5480e-01,\n",
       "         4.5575e-01],\n",
       "        [3.1348e-07, 8.1818e-02, 1.2100e-01,  ..., 8.2884e-01, 8.3354e-01,\n",
       "         8.6834e-01]])"
      ]
     },
     "execution_count": 7,
     "metadata": {},
     "output_type": "execute_result"
    }
   ],
   "source": [
    "train_data = torch.tensor(dataTrain.dataSamples.astype(np.float32))\n",
    "train_data"
   ]
  },
  {
   "cell_type": "code",
   "execution_count": 8,
   "metadata": {},
   "outputs": [
    {
     "data": {
      "text/plain": [
       "([103, 50, 30, 10], [10, 30, 50, 103])"
      ]
     },
     "execution_count": 8,
     "metadata": {},
     "output_type": "execute_result"
    }
   ],
   "source": [
    "hypData.numBands\n",
    "encoderSize=[50,30,10]\n",
    "encoderSize=[hypData.numBands]+encoderSize\n",
    "decodersize=encoderSize[::-1]\n",
    "encoderSize,decodersize"
   ]
  },
  {
   "cell_type": "code",
   "execution_count": 9,
   "metadata": {},
   "outputs": [],
   "source": [
    "def force_cudnn_initialization():\n",
    "    s = 32\n",
    "    dev = torch.device('cuda')\n",
    "    torch.nn.functional.conv2d(torch.zeros(s, s, s, s, device=dev), torch.zeros(s, s, s, s, device=dev))"
   ]
  },
  {
   "cell_type": "code",
   "execution_count": 10,
   "metadata": {},
   "outputs": [],
   "source": [
    "# -----------------------------------------------------------\n",
    "\n",
    "class Net(T.nn.Module):\n",
    "  def __init__(self):\n",
    "    super(Net, self).__init__()\n",
    "    self.enn1 = T.nn.Linear(103, 50)  # 64-16-2-16-64\n",
    "    self.enn2 = T.nn.Linear(50, 30)\n",
    "    self.enn3 = T.nn.Linear(30,10)\n",
    "    self.dnn3 = T.nn.Linear(10, 30)  # 64-16-2-16-64\n",
    "    self.dnn2 = T.nn.Linear(30, 50)\n",
    "    self.dnn1 = T.nn.Linear(50,103)\n",
    "\n",
    "  def encoder(self,x):\n",
    "    z= T.relu(self.enn1(x))\n",
    "    z= T.relu(self.enn2(z))\n",
    "    z= T.relu(self.enn3(z))\n",
    "    return z\n",
    "  \n",
    "  def decoder(self,x):\n",
    "    z= T.relu(self.dnn3(x))\n",
    "    z= T.relu(self.dnn2(z))\n",
    "    z= self.dnn1(z)\n",
    "    return z\n",
    "\n",
    "\n",
    "  def forward(self, x):\n",
    "    encoded=self.encoder(x)\n",
    "    decoded= self.decoder(encoded)\n",
    "    \n",
    "    return encoded,decoded\n",
    "    \n",
    "net=Net().to(device)\n"
   ]
  },
  {
   "cell_type": "code",
   "execution_count": 11,
   "metadata": {},
   "outputs": [
    {
     "data": {
      "text/plain": [
       "torch.Size([1, 103])"
      ]
     },
     "execution_count": 11,
     "metadata": {},
     "output_type": "execute_result"
    }
   ],
   "source": [
    "\n",
    "inpu=torch.rand(1,103).to(device)\n",
    "outp=net(inpu)\n",
    "outp[1].shape\n"
   ]
  },
  {
   "cell_type": "code",
   "execution_count": 12,
   "metadata": {},
   "outputs": [
    {
     "data": {
      "text/plain": [
       "103"
      ]
     },
     "execution_count": 12,
     "metadata": {},
     "output_type": "execute_result"
    }
   ],
   "source": [
    "hypData.numBands"
   ]
  },
  {
   "cell_type": "code",
   "execution_count": 29,
   "metadata": {
    "scrolled": true
   },
   "outputs": [
    {
     "name": "stdout",
     "output_type": "stream",
     "text": [
      "\n",
      "Begin UCI digits auto-reduce-viz demo job \n",
      "\n",
      "Creating 64-16-2-16-63 autoencoder \n"
     ]
    },
    {
     "ename": "TypeError",
     "evalue": "'module' object is not callable",
     "output_type": "error",
     "traceback": [
      "\u001b[1;31m---------------------------------------------------------------------------\u001b[0m",
      "\u001b[1;31mTypeError\u001b[0m                                 Traceback (most recent call last)",
      "Input \u001b[1;32mIn [29]\u001b[0m, in \u001b[0;36m<cell line: 22>\u001b[1;34m()\u001b[0m\n\u001b[0;32m     19\u001b[0m lrn_rate \u001b[38;5;241m=\u001b[39m \u001b[38;5;241m0.0001\u001b[39m\n\u001b[0;32m     21\u001b[0m loss_func1 \u001b[38;5;241m=\u001b[39m T\u001b[38;5;241m.\u001b[39mnn\u001b[38;5;241m.\u001b[39mMSELoss()\n\u001b[1;32m---> 22\u001b[0m loss_func \u001b[38;5;241m=\u001b[39m \u001b[43mCSA\u001b[49m\u001b[43m(\u001b[49m\u001b[43m)\u001b[49m\n\u001b[0;32m     23\u001b[0m optimizer \u001b[38;5;241m=\u001b[39m T\u001b[38;5;241m.\u001b[39moptim\u001b[38;5;241m.\u001b[39mAdam(net\u001b[38;5;241m.\u001b[39mparameters(), lr\u001b[38;5;241m=\u001b[39mlrn_rate)\n\u001b[0;32m     25\u001b[0m \u001b[38;5;28mprint\u001b[39m(\u001b[38;5;124m\"\u001b[39m\u001b[38;5;130;01m\\n\u001b[39;00m\u001b[38;5;124mbat_size = \u001b[39m\u001b[38;5;132;01m%3d\u001b[39;00m\u001b[38;5;124m \u001b[39m\u001b[38;5;124m\"\u001b[39m \u001b[38;5;241m%\u001b[39m bat_size)\n",
      "\u001b[1;31mTypeError\u001b[0m: 'module' object is not callable"
     ]
    }
   ],
   "source": [
    "# -----------------------------------------------------------\n",
    "\n",
    "force_cudnn_initialization()\n",
    "# 0. setup\n",
    "print(\"\\nBegin UCI digits auto-reduce-viz demo job \")\n",
    "T.manual_seed(1)\n",
    "np.random.seed(1)\n",
    "\n",
    "bat_size = 8184\n",
    "train_ldr = T.utils.data.DataLoader(train_data,\n",
    "batch_size=bat_size, shuffle=True)\n",
    "  # 2. create network\n",
    "print(\"\\nCreating 64-16-2-16-63 autoencoder \")\n",
    "net = Net().to(\"cuda:0\")\n",
    "\n",
    "# 3. train model\n",
    "max_epochs = 1000\n",
    "ep_log_interval = 5\n",
    "lrn_rate = 0.0001\n",
    "\n",
    "loss_func1 = T.nn.MSELoss()\n",
    "loss_func = CSA()\n",
    "optimizer = T.optim.Adam(net.parameters(), lr=lrn_rate)\n",
    "\n",
    "print(\"\\nbat_size = %3d \" % bat_size)\n",
    "print(\"loss = \" + str(loss_func))\n",
    "print(\"optimizer = Adam\")\n",
    "print(\"max_epochs = %3d \" % max_epochs)\n",
    "print(\"lrn_rate = %0.3f \" % lrn_rate)\n",
    "\n",
    "print(\"\\nStarting training\")\n",
    "net = net.train()\n",
    "\n",
    "\n",
    "for epoch in range(0, max_epochs):\n",
    "  time.sleep(0.5)\n",
    "  loop= tqdm(enumerate(train_ldr), total=len(train_ldr),leave=True)\n",
    "  epoch_loss = 0  # for one full epoch\n",
    "  mseloss=0\n",
    "\n",
    "  iterator = iter(train_ldr)\n",
    "  \n",
    "  for (batch_idx, batch) in loop:\n",
    "    Z = next(iterator)\n",
    "    Z = Z.view(Z.size()[0], -1)\n",
    "    Z = Z.cuda()\n",
    "    \n",
    "    enc_out, dec_out = net(Z.float())\n",
    "    loss1 = loss_func(dec_out, Z.float())  \n",
    "    loss1 = torch.sum(loss1).float()\n",
    "    optimizer.zero_grad()\n",
    "    loss1.backward()\n",
    "    optimizer.step()\n",
    "    \n",
    "    X = batch.to(device)  # no targets needed\n",
    "    \n",
    "    '''optimizer.zero_grad()\n",
    "    oupt = net(X)\n",
    "    loss_obj = loss_func(oupt[1], X)  # note: X not Y'''\n",
    "    #loss_obj1=loss_func1(oupt[1],X)\n",
    "    epoch_loss += loss1.item()  # accumulate\n",
    "    #mseloss+=loss_obj1.item()\n",
    "    #loss_obj.backward()\n",
    "    #optimizer.step()\n",
    "    \n",
    "    loop.set_description(f\"Epoch [{epoch}/{max_epochs}]\")\n",
    "    loop.set_postfix(loss=str(epoch_loss))\n",
    "\n",
    "    \n",
    "\n",
    "  #if epoch % ep_log_interval == 0:\n",
    "    \n",
    "    \n",
    "    #print(\"epoch = %4d   loss = %0.4f\" % (epoch, epoch_loss)) \n",
    "print(\"Done \")\n",
    "\n",
    "# 4. plot digits using reduced form\n",
    "print(\"\\nCreating graph from encoded data \")\n",
    "net = net.eval()\n",
    "\n",
    "\n",
    "\n"
   ]
  },
  {
   "cell_type": "code",
   "execution_count": null,
   "metadata": {},
   "outputs": [],
   "source": [
    "p=net(Z.float())\n",
    "p.detach()"
   ]
  },
  {
   "cell_type": "code",
   "execution_count": null,
   "metadata": {},
   "outputs": [],
   "source": [
    "\n",
    "torch.save(net, 'model_csa.pth')"
   ]
  },
  {
   "cell_type": "code",
   "execution_count": null,
   "metadata": {},
   "outputs": [],
   "source": [
    "torch.save(net.state_dict(), 'net_model_csa.pth')"
   ]
  },
  {
   "cell_type": "code",
   "execution_count": 15,
   "metadata": {},
   "outputs": [
    {
     "data": {
      "text/plain": [
       "<All keys matched successfully>"
      ]
     },
     "execution_count": 15,
     "metadata": {},
     "output_type": "execute_result"
    }
   ],
   "source": [
    "net.load_state_dict(torch.load('net_model_csa1.pth'))"
   ]
  },
  {
   "cell_type": "code",
   "execution_count": 11,
   "metadata": {},
   "outputs": [
    {
     "data": {
      "text/plain": [
       "tensor([[0.1428, 0.1011, 0.0913,  ..., 0.8679, 0.8727, 0.8761],\n",
       "        [0.1670, 0.1465, 0.1398,  ..., 0.8144, 0.8221, 0.8447],\n",
       "        [0.2236, 0.2766, 0.1961,  ..., 0.9382, 0.9538, 0.9606],\n",
       "        ...,\n",
       "        [0.1139, 0.0292, 0.0460,  ..., 0.8492, 0.8594, 0.8660],\n",
       "        [0.1068, 0.1744, 0.1333,  ..., 0.8415, 0.8397, 0.8316],\n",
       "        [0.2278, 0.1603, 0.0520,  ..., 0.8381, 0.8505, 0.8657]])"
      ]
     },
     "execution_count": 11,
     "metadata": {},
     "output_type": "execute_result"
    }
   ],
   "source": [
    "trex=torch.tensor(hypData.spectraPrep.astype(np.float32))\n",
    "trex"
   ]
  },
  {
   "cell_type": "code",
   "execution_count": 12,
   "metadata": {},
   "outputs": [
    {
     "data": {
      "text/plain": [
       "torch.Size([207400, 10])"
      ]
     },
     "execution_count": 12,
     "metadata": {},
     "output_type": "execute_result"
    }
   ],
   "source": [
    "dataZ=net.encoder(trex.to(\"cuda\"))\n",
    "dataZ.shape"
   ]
  },
  {
   "cell_type": "code",
   "execution_count": 18,
   "metadata": {},
   "outputs": [
    {
     "data": {
      "text/plain": [
       "tensor([[0.0031, 0.0036, 0.0054,  ..., 0.0917, 0.0448, 0.1098],\n",
       "        [0.0039, 0.0045, 0.0080,  ..., 0.0905, 0.0439, 0.1085],\n",
       "        [0.0066, 0.0075, 0.0108,  ..., 0.0917, 0.0443, 0.1093],\n",
       "        ...,\n",
       "        [0.0017, 0.0017, 0.0031,  ..., 0.0902, 0.0435, 0.1089],\n",
       "        [0.0039, 0.0044, 0.0067,  ..., 0.0910, 0.0438, 0.1094],\n",
       "        [0.0048, 0.0050, 0.0046,  ..., 0.0920, 0.0445, 0.1102]],\n",
       "       device='cuda:0', grad_fn=<AddmmBackward0>)"
      ]
     },
     "execution_count": 18,
     "metadata": {},
     "output_type": "execute_result"
    }
   ],
   "source": [
    "dataY = net.decoder(dataZ)\n",
    "dataY"
   ]
  },
  {
   "cell_type": "code",
   "execution_count": 19,
   "metadata": {},
   "outputs": [],
   "source": [
    "imgZ = np.reshape(dataZ.to(\"cpu\").detach().numpy(), (hypData.numRows, hypData.numCols, -1))"
   ]
  },
  {
   "cell_type": "code",
   "execution_count": 20,
   "metadata": {},
   "outputs": [],
   "source": [
    "imgY = np.reshape(dataY.to(\"cpu\").detach().numpy(), (hypData.numRows, hypData.numCols, -1))"
   ]
  },
  {
   "cell_type": "code",
   "execution_count": 21,
   "metadata": {},
   "outputs": [],
   "source": [
    "imgX = np.reshape(hypData.spectraPrep, (hypData.numRows, hypData.numCols, -1))"
   ]
  },
  {
   "cell_type": "code",
   "execution_count": 34,
   "metadata": {},
   "outputs": [],
   "source": [
    "# visualise latent image using 3 out of the 10 dimensions\n",
    "colourImg = imgZ.copy()\n",
    "colourImg = colourImg[ :,:,np.argsort(-np.std(np.std(colourImg, axis=0), axis=0))[:3] ]\n",
    "colourImg /= np.max(np.max(colourImg, axis=0), axis=0)"
   ]
  },
  {
   "cell_type": "code",
   "execution_count": 35,
   "metadata": {},
   "outputs": [
    {
     "data": {
      "text/plain": [
       "<matplotlib.image.AxesImage at 0x1a3d8a9dc40>"
      ]
     },
     "execution_count": 35,
     "metadata": {},
     "output_type": "execute_result"
    },
    {
     "data": {
      "image/png": "[encoded data removed]",
      "text/plain": [
       "<Figure size 432x288 with 1 Axes>"
      ]
     },
     "metadata": {
      "needs_background": "light"
     },
     "output_type": "display_data"
    }
   ],
   "source": [
    "plt.imshow(colourImg)"
   ]
  },
  {
   "cell_type": "code",
   "execution_count": 36,
   "metadata": {},
   "outputs": [
    {
     "data": {
      "text/plain": [
       "Text(0.5, 1.0, 'meadow spectra')"
      ]
     },
     "execution_count": 36,
     "metadata": {},
     "output_type": "execute_result"
    },
    {
     "data": {
      "image/png": "[encoded data removed]",
      "text/plain": [
       "<Figure size 432x288 with 1 Axes>"
      ]
     },
     "metadata": {
      "needs_background": "light"
     },
     "output_type": "display_data"
    }
   ],
   "source": [
    "# save plot of latent vector of 'meadow' spectra\n",
    "fig = plt.figure()\n",
    "plt.plot(imgZ[576, 210, :])\n",
    "plt.xlabel('latent dimension')\n",
    "plt.ylabel('latent value')\n",
    "plt.title('meadow spectra')"
   ]
  },
  {
   "cell_type": "code",
   "execution_count": 37,
   "metadata": {},
   "outputs": [
    {
     "data": {
      "text/plain": [
       "<matplotlib.legend.Legend at 0x1a3e100cd90>"
      ]
     },
     "execution_count": 37,
     "metadata": {},
     "output_type": "execute_result"
    },
    {
     "data": {
      "image/png": "[encoded data removed]",
      "text/plain": [
       "<Figure size 432x288 with 1 Axes>"
      ]
     },
     "metadata": {
      "needs_background": "light"
     },
     "output_type": "display_data"
    }
   ],
   "source": [
    "# save plot comparing pre-processed 'meadow' spectra input with decoder reconstruction\n",
    "fig = plt.figure()\n",
    "ax = plt.subplot(111)\n",
    "ax.plot(range(hypData.numBands),imgX[576, 210, :],label='pre-processed input')\n",
    "ax.plot(range(hypData.numBands),imgY[576, 210, :],label='reconstruction')\n",
    "plt.xlabel('band')\n",
    "plt.ylabel('value')\n",
    "plt.title('meadow spectra')\n",
    "ax.legend()"
   ]
  },
  {
   "cell_type": "code",
   "execution_count": 26,
   "metadata": {},
   "outputs": [
    {
     "ename": "NameError",
     "evalue": "name 'csa' is not defined",
     "output_type": "error",
     "traceback": [
      "\u001b[1;31m---------------------------------------------------------------------------\u001b[0m",
      "\u001b[1;31mNameError\u001b[0m                                 Traceback (most recent call last)",
      "\u001b[1;32mc:\\Users\\naras\\Model_train\\MLP-Autoenc\\init-impl-csa.ipynb Cell 28'\u001b[0m in \u001b[0;36m<cell line: 3>\u001b[1;34m()\u001b[0m\n\u001b[0;32m      <a href='vscode-notebook-cell:/c%3A/Users/naras/Model_train/MLP-Autoenc/init-impl-csa.ipynb#ch0000027?line=0'>1</a>\u001b[0m inpt1\u001b[39m=\u001b[39mtorch\u001b[39m.\u001b[39mrand(\u001b[39m3\u001b[39m,\u001b[39m103\u001b[39m)\n\u001b[0;32m      <a href='vscode-notebook-cell:/c%3A/Users/naras/Model_train/MLP-Autoenc/init-impl-csa.ipynb#ch0000027?line=1'>2</a>\u001b[0m inpt2\u001b[39m=\u001b[39mtorch\u001b[39m.\u001b[39mrand(\u001b[39m3\u001b[39m,\u001b[39m103\u001b[39m)\n\u001b[1;32m----> <a href='vscode-notebook-cell:/c%3A/Users/naras/Model_train/MLP-Autoenc/init-impl-csa.ipynb#ch0000027?line=2'>3</a>\u001b[0m outp\u001b[39m=\u001b[39mcsa(inpt1,inpt2)\n\u001b[0;32m      <a href='vscode-notebook-cell:/c%3A/Users/naras/Model_train/MLP-Autoenc/init-impl-csa.ipynb#ch0000027?line=3'>4</a>\u001b[0m outp\n",
      "\u001b[1;31mNameError\u001b[0m: name 'csa' is not defined"
     ]
    }
   ],
   "source": [
    "\n",
    "inpt1=torch.rand(3,103)\n",
    "inpt2=torch.rand(3,103)\n",
    "outp=csa(inpt1,inpt2)\n",
    "outp"
   ]
  },
  {
   "cell_type": "code",
   "execution_count": 27,
   "metadata": {},
   "outputs": [
    {
     "ename": "NameError",
     "evalue": "name 'Z' is not defined",
     "output_type": "error",
     "traceback": [
      "\u001b[1;31m---------------------------------------------------------------------------\u001b[0m",
      "\u001b[1;31mNameError\u001b[0m                                 Traceback (most recent call last)",
      "\u001b[1;32mc:\\Users\\naras\\Model_train\\MLP-Autoenc\\init-impl-csa.ipynb Cell 29'\u001b[0m in \u001b[0;36m<cell line: 1>\u001b[1;34m()\u001b[0m\n\u001b[1;32m----> <a href='vscode-notebook-cell:/c%3A/Users/naras/Model_train/MLP-Autoenc/init-impl-csa.ipynb#ch0000028?line=0'>1</a>\u001b[0m \u001b[39minput\u001b[39m\u001b[39m=\u001b[39mZ\n\u001b[0;32m      <a href='vscode-notebook-cell:/c%3A/Users/naras/Model_train/MLP-Autoenc/init-impl-csa.ipynb#ch0000028?line=1'>2</a>\u001b[0m target\u001b[39m=\u001b[39mdec_out\n\u001b[0;32m      <a href='vscode-notebook-cell:/c%3A/Users/naras/Model_train/MLP-Autoenc/init-impl-csa.ipynb#ch0000028?line=2'>3</a>\u001b[0m eps\u001b[39m=\u001b[39m\u001b[39m1e5\u001b[39m\n",
      "\u001b[1;31mNameError\u001b[0m: name 'Z' is not defined"
     ]
    }
   ],
   "source": [
    "input=Z\n",
    "target=dec_out\n",
    "eps=1e5\n",
    "\n",
    "normalize_inp = (input/torch.sum(input, dim=0)) + eps\n",
    "normalize_tar = (target/torch.sum(target, dim=0)) + eps\n",
    "sid = torch.sum(normalize_inp * torch.log(normalize_inp / normalize_tar) + normalize_tar * torch.log(normalize_tar / normalize_inp))\n",
    "sid"
   ]
  },
  {
   "cell_type": "code",
   "execution_count": 28,
   "metadata": {},
   "outputs": [
    {
     "ename": "NameError",
     "evalue": "name 'dec_out' is not defined",
     "output_type": "error",
     "traceback": [
      "\u001b[1;31m---------------------------------------------------------------------------\u001b[0m",
      "\u001b[1;31mNameError\u001b[0m                                 Traceback (most recent call last)",
      "\u001b[1;32mc:\\Users\\naras\\Model_train\\MLP-Autoenc\\init-impl-csa.ipynb Cell 30'\u001b[0m in \u001b[0;36m<cell line: 1>\u001b[1;34m()\u001b[0m\n\u001b[1;32m----> <a href='vscode-notebook-cell:/c%3A/Users/naras/Model_train/MLP-Autoenc/init-impl-csa.ipynb#ch0000029?line=0'>1</a>\u001b[0m decout \u001b[39m=\u001b[39m dec_out\u001b[39m.\u001b[39mdetach()\n\u001b[0;32m      <a href='vscode-notebook-cell:/c%3A/Users/naras/Model_train/MLP-Autoenc/init-impl-csa.ipynb#ch0000029?line=1'>2</a>\u001b[0m decout\u001b[39m.\u001b[39mshape\n",
      "\u001b[1;31mNameError\u001b[0m: name 'dec_out' is not defined"
     ]
    }
   ],
   "source": [
    "decout = dec_out.detach()\n",
    "decout.shape"
   ]
  },
  {
   "cell_type": "code",
   "execution_count": 29,
   "metadata": {},
   "outputs": [],
   "source": [
    "def csa1(input, target):\n",
    "    norm_r = torch.nn.functional.normalize(torch.transpose(input,0,0),dim=0)\n",
    "    norm_t = torch.nn.functional.normalize(torch.transpose(target,0,0),dim=0)\n",
    "    mult = torch.multiply(norm_r,norm_t).sum()\n",
    "    return 1-mult.sum()"
   ]
  },
  {
   "cell_type": "code",
   "execution_count": 30,
   "metadata": {},
   "outputs": [],
   "source": [
    "def csa(input, target):\n",
    "    normalize_r = (input/torch.sum(input, dim=0)) \n",
    "    normalize_t = (target/torch.sum(target, dim=0))\n",
    "    mult = torch.multiply(normalize_r,normalize_t).sum()\n",
    "    return 1-mult.sum()"
   ]
  },
  {
   "cell_type": "code",
   "execution_count": 31,
   "metadata": {},
   "outputs": [
    {
     "ename": "TypeError",
     "evalue": "sum() received an invalid combination of arguments - got (method, dim=int), but expected one of:\n * (Tensor input, *, torch.dtype dtype)\n * (Tensor input, tuple of ints dim, bool keepdim, *, torch.dtype dtype, Tensor out)\n * (Tensor input, tuple of names dim, bool keepdim, *, torch.dtype dtype, Tensor out)\n",
     "output_type": "error",
     "traceback": [
      "\u001b[1;31m---------------------------------------------------------------------------\u001b[0m",
      "\u001b[1;31mTypeError\u001b[0m                                 Traceback (most recent call last)",
      "\u001b[1;32mc:\\Users\\naras\\Model_train\\MLP-Autoenc\\init-impl-csa.ipynb Cell 33'\u001b[0m in \u001b[0;36m<cell line: 1>\u001b[1;34m()\u001b[0m\n\u001b[1;32m----> <a href='vscode-notebook-cell:/c%3A/Users/naras/Model_train/MLP-Autoenc/init-impl-csa.ipynb#ch0000032?line=0'>1</a>\u001b[0m normalize_r \u001b[39m=\u001b[39m (\u001b[39minput\u001b[39m\u001b[39m/\u001b[39mtorch\u001b[39m.\u001b[39;49msum(\u001b[39minput\u001b[39;49m, dim\u001b[39m=\u001b[39;49m\u001b[39m0\u001b[39;49m)) \n\u001b[0;32m      <a href='vscode-notebook-cell:/c%3A/Users/naras/Model_train/MLP-Autoenc/init-impl-csa.ipynb#ch0000032?line=1'>2</a>\u001b[0m normalize_t \u001b[39m=\u001b[39m (target\u001b[39m/\u001b[39mtorch\u001b[39m.\u001b[39msum(target, dim\u001b[39m=\u001b[39m\u001b[39m0\u001b[39m))\n\u001b[0;32m      <a href='vscode-notebook-cell:/c%3A/Users/naras/Model_train/MLP-Autoenc/init-impl-csa.ipynb#ch0000032?line=2'>3</a>\u001b[0m mult \u001b[39m=\u001b[39m torch\u001b[39m.\u001b[39mmultiply(normalize_r,normalize_t)\u001b[39m.\u001b[39msum()\n",
      "\u001b[1;31mTypeError\u001b[0m: sum() received an invalid combination of arguments - got (method, dim=int), but expected one of:\n * (Tensor input, *, torch.dtype dtype)\n * (Tensor input, tuple of ints dim, bool keepdim, *, torch.dtype dtype, Tensor out)\n * (Tensor input, tuple of names dim, bool keepdim, *, torch.dtype dtype, Tensor out)\n"
     ]
    }
   ],
   "source": [
    "normalize_r = (input/torch.sum(input, dim=0)) \n",
    "normalize_t = (target/torch.sum(target, dim=0))\n",
    "mult = torch.multiply(normalize_r,normalize_t).sum()\n",
    "1-mult"
   ]
  },
  {
   "cell_type": "code",
   "execution_count": 32,
   "metadata": {},
   "outputs": [
    {
     "ename": "NameError",
     "evalue": "name 'mult' is not defined",
     "output_type": "error",
     "traceback": [
      "\u001b[1;31m---------------------------------------------------------------------------\u001b[0m",
      "\u001b[1;31mNameError\u001b[0m                                 Traceback (most recent call last)",
      "\u001b[1;32mc:\\Users\\naras\\Model_train\\MLP-Autoenc\\init-impl-csa.ipynb Cell 34'\u001b[0m in \u001b[0;36m<cell line: 1>\u001b[1;34m()\u001b[0m\n\u001b[1;32m----> <a href='vscode-notebook-cell:/c%3A/Users/naras/Model_train/MLP-Autoenc/init-impl-csa.ipynb#ch0000033?line=0'>1</a>\u001b[0m csaloss \u001b[39m=\u001b[39m torch\u001b[39m.\u001b[39macos(mult)\n\u001b[0;32m      <a href='vscode-notebook-cell:/c%3A/Users/naras/Model_train/MLP-Autoenc/init-impl-csa.ipynb#ch0000033?line=1'>2</a>\u001b[0m csaloss\n",
      "\u001b[1;31mNameError\u001b[0m: name 'mult' is not defined"
     ]
    }
   ],
   "source": [
    "csaloss = torch.acos(mult)\n",
    "csaloss"
   ]
  },
  {
   "cell_type": "code",
   "execution_count": 33,
   "metadata": {},
   "outputs": [],
   "source": [
    "def csam(input, target):\n",
    "    normalize_r = (input/torch.sum(input, dim=0)) \n",
    "    normalize_t = (target/torch.sum(target, dim=0))\n",
    "    mult = torch.sum(torch.multiply(normalize_r,normalize_t),dim=0)\n",
    "    mult = 1-(torch.sum(mult))\n",
    "    return mult"
   ]
  },
  {
   "cell_type": "code",
   "execution_count": 38,
   "metadata": {},
   "outputs": [],
   "source": [
    "tensory=dataY.reshape(hypData.numRows, hypData.numCols, -1)\n",
    "tensorx=torch.Tensor(imgX)"
   ]
  },
  {
   "cell_type": "code",
   "execution_count": 52,
   "metadata": {},
   "outputs": [
    {
     "name": "stderr",
     "output_type": "stream",
     "text": [
      "d:\\Anaconda\\lib\\site-packages\\skimage\\_shared\\utils.py:348: UserWarning: Inputs have mismatched dtype.  Setting data_range based on im1.dtype.\n",
      "  return func(*args, **kwargs)\n"
     ]
    },
    {
     "name": "stdout",
     "output_type": "stream",
     "text": [
      "SSIM: 0.1190673460503102\n",
      "Mean SSIM 0.21966672449553584 dB\n"
     ]
    }
   ],
   "source": [
    "from skimage.metrics import structural_similarity\n",
    "##skimage.metrics.\n",
    "import argparse\n",
    "import imutils\n",
    "import cv2\n",
    "\n",
    "ssim_score=[]\n",
    "import statistics\n",
    "for i in range(hypData.numBands):\n",
    "    # 3. Load the two input images\n",
    "    imageA = imgX[:, :, i]\n",
    "    imageB = imgY[:, :, i]\n",
    "\n",
    "    # 4. Convert the images to grayscale\n",
    "    #grayA = cv2.cvtColor(imageA, cv2.COLOR_BGR2GRAY)\n",
    "    #grayB = cv2.cvtColor(imageB, cv2.COLOR_BGR2GRAY)\n",
    "\n",
    "\n",
    "    # 5. Compute the Structural Similarity Index (SSIM) between the two\n",
    "    #    images, ensuring that the difference image is returned\n",
    "    (score, diff) = structural_similarity(imageA, imageB, full=True)\n",
    "    diff = (diff * 255).astype(\"uint8\")\n",
    "    ssim_score.append(score)\n",
    "\n",
    "# 6. You can print only the score if you want\n",
    "print(\"SSIM: {}\".format(score))\n",
    "print(f\"Mean SSIM {statistics.mean(ssim_score)} dB\")\n",
    "\n",
    "\n"
   ]
  },
  {
   "cell_type": "code",
   "execution_count": 39,
   "metadata": {},
   "outputs": [
    {
     "data": {
      "text/plain": [
       "tensor(0.5742, grad_fn=<MeanBackward0>)"
      ]
     },
     "execution_count": 39,
     "metadata": {},
     "output_type": "execute_result"
    }
   ],
   "source": [
    "def cross_correlation(H_fuse, H_ref):\n",
    "    N_spectral = H_fuse.shape[2]\n",
    "\n",
    "    # Rehsaping fused and reference data\n",
    "    H_fuse_reshaped = H_fuse.view(N_spectral, -1)\n",
    "    H_ref_reshaped = H_ref.view(N_spectral, -1)\n",
    "\n",
    "    # Calculating mean value\n",
    "    mean_fuse = torch.mean(H_fuse_reshaped, 1).unsqueeze(1)\n",
    "    mean_ref = torch.mean(H_ref_reshaped, 1).unsqueeze(1)\n",
    "\n",
    "    CC = torch.sum((H_fuse_reshaped- mean_fuse)*(H_ref_reshaped-mean_ref), 1)/torch.sqrt(torch.sum((H_fuse_reshaped- mean_fuse)**2, 1)*torch.sum((H_ref_reshaped-mean_ref)**2, 1))\n",
    "\n",
    "    CC = torch.mean(CC)\n",
    "    return CC\n",
    "cross_correlation(tensorx.cpu(),tensory.cpu())"
   ]
  },
  {
   "cell_type": "code",
   "execution_count": 40,
   "metadata": {},
   "outputs": [
    {
     "data": {
      "text/plain": [
       "tensor(33.5784, grad_fn=<Rad2DegBackward0>)"
      ]
     },
     "execution_count": 40,
     "metadata": {},
     "output_type": "execute_result"
    }
   ],
   "source": [
    "def SAM(H_fuse, H_ref):\n",
    "    #Compute number of spectral bands\n",
    "    N_spectral = H_fuse.shape[2]\n",
    "\n",
    "    # Rehsaping fused and reference data\n",
    "    H_fuse_reshaped = H_fuse.view(N_spectral, -1)\n",
    "    H_ref_reshaped  = H_ref.view(N_spectral, -1)\n",
    "    N_pixels = H_fuse_reshaped.shape[1]\n",
    "    \n",
    "    # Calculating inner product\n",
    "    inner_prod  = torch.nansum(H_fuse_reshaped*H_ref_reshaped, 0)\n",
    "    fuse_norm   = torch.nansum(H_fuse_reshaped**2, dim=0).sqrt()\n",
    "    ref_norm    = torch.nansum(H_ref_reshaped**2, dim=0).sqrt()\n",
    "\n",
    "    # Calculating SAM\n",
    "    SAM = torch.rad2deg(torch.nansum( torch.acos(inner_prod/(fuse_norm*ref_norm)) )/N_pixels)\n",
    "    return SAM\n",
    "SAM(tensorx.cpu(),tensory.cpu())"
   ]
  },
  {
   "cell_type": "code",
   "execution_count": 41,
   "metadata": {},
   "outputs": [
    {
     "data": {
      "text/plain": [
       "tensor(0.3718, grad_fn=<SqrtBackward0>)"
      ]
     },
     "execution_count": 41,
     "metadata": {},
     "output_type": "execute_result"
    }
   ],
   "source": [
    "def RMSE(H_fuse, H_ref):\n",
    "    # Rehsaping fused and reference data\n",
    "    H_fuse_reshaped = H_fuse.view(-1)\n",
    "    H_ref_reshaped = H_ref.view(-1)\n",
    "\n",
    "    # Calculating RMSE\n",
    "    RMSE = torch.sqrt(torch.nansum((H_ref_reshaped - H_fuse_reshaped)**2)/H_fuse_reshaped.shape[0])\n",
    "    return RMSE\n",
    "RMSE(tensorx.cpu(),tensory.cpu())"
   ]
  },
  {
   "cell_type": "code",
   "execution_count": 42,
   "metadata": {},
   "outputs": [
    {
     "data": {
      "text/plain": [
       "tensor(0.8993, grad_fn=<DivBackward0>)"
      ]
     },
     "execution_count": 42,
     "metadata": {},
     "output_type": "execute_result"
    }
   ],
   "source": [
    "# Peak SNR (PSNR)\n",
    "def PSNR2(H_fuse, H_ref):\n",
    "    #Compute number of spectral bands\n",
    "    N_spectral = H_fuse.shape[2]\n",
    "\n",
    "    # Reshaping images\n",
    "    H_fuse_reshaped = H_fuse.view(N_spectral, -1)\n",
    "    H_ref_reshaped = H_ref.view(N_spectral, -1)\n",
    "\n",
    "    # Calculating RMSE of each band\n",
    "    rmse = torch.sqrt(torch.sum((H_ref_reshaped-H_fuse_reshaped)**2, dim=1)/H_fuse_reshaped.shape[1])\n",
    "\n",
    "    # Calculating max of H_ref for each band\n",
    "    max_H_ref, _ = torch.max(H_ref_reshaped, dim=1)\n",
    "\n",
    "    # Calculating PSNR\n",
    "    PSNR = torch.nansum(10*torch.log10(torch.div(max_H_ref, rmse)**2))/N_spectral\n",
    "\n",
    "    return PSNR\n",
    "PSNR2(tensorx.cpu(),tensory.cpu()) "
   ]
  },
  {
   "cell_type": "code",
   "execution_count": 7,
   "metadata": {},
   "outputs": [
    {
     "data": {
      "text/plain": [
       "array([[20, 24, 28, 32],\n",
       "       [25, 30, 35, 40],\n",
       "       [30, 36, 42, 48]])"
      ]
     },
     "execution_count": 7,
     "metadata": {},
     "output_type": "execute_result"
    }
   ],
   "source": [
    "import numpy as np\n",
    "a=np.array([4,5,6]).T\n",
    "b=np.array([5,6,7,8])\n",
    "\n",
    "np.outer(a,b)"
   ]
  },
  {
   "cell_type": "code",
   "execution_count": 12,
   "metadata": {},
   "outputs": [
    {
     "data": {
      "text/plain": [
       "array([[ 3, -1,  1,  1, -1],\n",
       "       [-1,  3,  1,  1,  3],\n",
       "       [ 1,  1,  3, -1,  1],\n",
       "       [ 1,  1, -1,  3,  1],\n",
       "       [-1,  3,  1,  1,  3]])"
      ]
     },
     "execution_count": 12,
     "metadata": {},
     "output_type": "execute_result"
    }
   ],
   "source": [
    "a=np.array([-1,1,-1,1,1])\n",
    "b=np.array([1,1,1,1,1])\n",
    "c=np.array([1,-1,-1,1,-1])\n",
    "d=np.outer(a.T,a)+np.outer(b.T,b)+np.outer(c.T,c)\n",
    "d"
   ]
  },
  {
   "cell_type": "code",
   "execution_count": null,
   "metadata": {},
   "outputs": [],
   "source": []
  }
 ],
 "metadata": {
  "interpreter": {
   "hash": "88279d2366fe020547cde40dd65aa0e3aa662a6ec1f3ca12d88834876c85e1a6"
  },
  "kernelspec": {
   "display_name": "Python 3 (ipykernel)",
   "language": "python",
   "name": "python3"
  },
  "language_info": {
   "codemirror_mode": {
    "name": "ipython",
    "version": 3
   },
   "file_extension": ".py",
   "mimetype": "text/x-python",
   "name": "python",
   "nbconvert_exporter": "python",
   "pygments_lexer": "ipython3",
   "version": "3.9.12"
  }
 },
 "nbformat": 4,
 "nbformat_minor": 2
}
